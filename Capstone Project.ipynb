{
 "cells": [
  {
   "cell_type": "code",
   "execution_count": 1,
   "metadata": {},
   "outputs": [],
   "source": [
    "import sys\n",
    "sys.path.insert(0, '/Users/bw/Desktop/plr/')\n",
    "import reg_linear_regression as rlr\n",
    "\n",
    "import pandas as pd"
   ]
  },
  {
   "cell_type": "code",
   "execution_count": 2,
   "metadata": {},
   "outputs": [
    {
     "name": "stderr",
     "output_type": "stream",
     "text": [
      "/opt/anaconda3/lib/python3.7/site-packages/IPython/core/interactiveshell.py:3063: DtypeWarning: Columns (6,14) have mixed types.Specify dtype option on import or set low_memory=False.\n",
      "  interactivity=interactivity, compiler=compiler, result=result)\n"
     ]
    }
   ],
   "source": [
    "train = pd.read_csv(r'~/Downloads/Iowa_Liquor_Sales.csv')\n",
    "info = pd.read_csv(r'~/Downloads/Iowa_Liquor_Products.csv')"
   ]
  },
  {
   "cell_type": "code",
   "execution_count": 3,
   "metadata": {},
   "outputs": [],
   "source": [
    "train1 = rlr.filter_year(train) "
   ]
  },
  {
   "cell_type": "code",
   "execution_count": 4,
   "metadata": {},
   "outputs": [
    {
     "data": {
      "text/plain": [
       "(4145822, 27)"
      ]
     },
     "execution_count": 4,
     "metadata": {},
     "output_type": "execute_result"
    }
   ],
   "source": [
    "train1.shape"
   ]
  },
  {
   "cell_type": "code",
   "execution_count": 4,
   "metadata": {},
   "outputs": [],
   "source": [
    "train1 = rlr.feature_eng(train1, info)"
   ]
  },
  {
   "cell_type": "code",
   "execution_count": 5,
   "metadata": {},
   "outputs": [],
   "source": [
    "train1 = rlr.clean_data(train1)"
   ]
  },
  {
   "cell_type": "code",
   "execution_count": 11,
   "metadata": {},
   "outputs": [
    {
     "data": {
      "text/plain": [
       "(3996731, 31)"
      ]
     },
     "execution_count": 11,
     "metadata": {},
     "output_type": "execute_result"
    }
   ],
   "source": [
    "train1.shape"
   ]
  },
  {
   "cell_type": "code",
   "execution_count": 12,
   "metadata": {},
   "outputs": [
    {
     "name": "stdout",
     "output_type": "stream",
     "text": [
      "The intercept is 4.6399\n",
      "The slopes are \n",
      "Vendor Number_978.0    0.0\n",
      "Vendor Number_255.0    0.0\n",
      "Vendor Number_192.0    0.0\n",
      "Vendor Number_198.0    0.0\n",
      "Vendor Number_203.0    0.0\n",
      "                      ... \n",
      "Vendor Number_384.0    0.0\n",
      "Vendor Number_389.0    0.0\n",
      "Vendor Number_390.0    0.0\n",
      "Vendor Number_391.0    0.0\n",
      "Order.Day              0.0\n",
      "Length: 117, dtype: float64\n"
     ]
    }
   ],
   "source": [
    "rlr.vendor_lasso(train1)"
   ]
  },
  {
   "cell_type": "code",
   "execution_count": 13,
   "metadata": {},
   "outputs": [
    {
     "name": "stdout",
     "output_type": "stream",
     "text": [
      "The intercept is 4.6399\n",
      "The slopes are \n",
      "Category_1701100.0    0.0\n",
      "County Number_62.0    0.0\n",
      "County Number_60.0    0.0\n",
      "County Number_59.0   -0.0\n",
      "County Number_58.0   -0.0\n",
      "                     ... \n",
      "Category_1031090.0   -0.0\n",
      "Category_1031080.0   -0.0\n",
      "Category_1022200.0    0.0\n",
      "Category_1022100.0    0.0\n",
      "Order.Day             0.0\n",
      "Length: 180, dtype: float64\n"
     ]
    }
   ],
   "source": [
    "rlr.category_county_lasso(train1)"
   ]
  },
  {
   "cell_type": "code",
   "execution_count": 6,
   "metadata": {},
   "outputs": [
    {
     "name": "stdout",
     "output_type": "stream",
     "text": [
      "The intercept is 4.6399\n",
      "The slopes are \n",
      "Proof_190.0    0.0\n",
      "Proof_151.0    0.0\n",
      "Proof_41.0    -0.0\n",
      "Proof_42.0    -0.0\n",
      "Proof_43.0     0.0\n",
      "              ... \n",
      "Proof_96.0     0.0\n",
      "Proof_97.0    -0.0\n",
      "Proof_98.0     0.0\n",
      "Proof_99.0     0.0\n",
      "Age            0.0\n",
      "Length: 96, dtype: float64\n"
     ]
    }
   ],
   "source": [
    "rlr.ageproof_lasso(train1)\n"
   ]
  },
  {
   "cell_type": "code",
   "execution_count": null,
   "metadata": {},
   "outputs": [],
   "source": []
  }
 ],
 "metadata": {
  "kernelspec": {
   "display_name": "Python 3",
   "language": "python",
   "name": "python3"
  },
  "language_info": {
   "codemirror_mode": {
    "name": "ipython",
    "version": 3
   },
   "file_extension": ".py",
   "mimetype": "text/x-python",
   "name": "python",
   "nbconvert_exporter": "python",
   "pygments_lexer": "ipython3",
   "version": "3.7.6"
  }
 },
 "nbformat": 4,
 "nbformat_minor": 4
}
