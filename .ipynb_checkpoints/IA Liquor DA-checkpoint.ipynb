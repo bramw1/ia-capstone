{
 "cells": [
  {
   "cell_type": "code",
   "execution_count": 1,
   "metadata": {},
   "outputs": [],
   "source": [
    "import pandas as pd\n",
    "import numpy as np\n",
    "import matplotlib.pyplot as plt"
   ]
  },
  {
   "cell_type": "code",
   "execution_count": 10,
   "metadata": {},
   "outputs": [],
   "source": [
    "train = pd.read_csv(r'~/Downloads/Iowa_Liquor_Sales.csv')"
   ]
  },
  {
   "cell_type": "code",
   "execution_count": 3,
   "metadata": {},
   "outputs": [],
   "source": [
    "##Dataset familiarization"
   ]
  },
  {
   "cell_type": "code",
   "execution_count": 4,
   "metadata": {},
   "outputs": [
    {
     "data": {
      "text/plain": [
       "((19666763, 24),\n",
       " Index(['Invoice/Item Number', 'Date', 'Store Number', 'Store Name', 'Address',\n",
       "        'City', 'Zip Code', 'Store Location', 'County Number', 'County',\n",
       "        'Category', 'Category Name', 'Vendor Number', 'Vendor Name',\n",
       "        'Item Number', 'Item Description', 'Pack', 'Bottle Volume (ml)',\n",
       "        'State Bottle Cost', 'State Bottle Retail', 'Bottles Sold',\n",
       "        'Sale (Dollars)', 'Volume Sold (Liters)', 'Volume Sold (Gallons)'],\n",
       "       dtype='object'))"
      ]
     },
     "execution_count": 4,
     "metadata": {},
     "output_type": "execute_result"
    }
   ],
   "source": [
    "train.shape, train.columns"
   ]
  },
  {
   "cell_type": "code",
   "execution_count": 84,
   "metadata": {},
   "outputs": [
    {
     "data": {
      "text/html": [
       "<div>\n",
       "<style scoped>\n",
       "    .dataframe tbody tr th:only-of-type {\n",
       "        vertical-align: middle;\n",
       "    }\n",
       "\n",
       "    .dataframe tbody tr th {\n",
       "        vertical-align: top;\n",
       "    }\n",
       "\n",
       "    .dataframe thead th {\n",
       "        text-align: right;\n",
       "    }\n",
       "</style>\n",
       "<table border=\"1\" class=\"dataframe\">\n",
       "  <thead>\n",
       "    <tr style=\"text-align: right;\">\n",
       "      <th></th>\n",
       "      <th>Invoice/Item Number</th>\n",
       "      <th>Date</th>\n",
       "      <th>Store Number</th>\n",
       "      <th>Store Name</th>\n",
       "      <th>Address</th>\n",
       "      <th>City</th>\n",
       "      <th>Zip Code</th>\n",
       "      <th>Store Location</th>\n",
       "      <th>County Number</th>\n",
       "      <th>County</th>\n",
       "      <th>...</th>\n",
       "      <th>Item Number</th>\n",
       "      <th>Item Description</th>\n",
       "      <th>Pack</th>\n",
       "      <th>Bottle Volume (ml)</th>\n",
       "      <th>State Bottle Cost</th>\n",
       "      <th>State Bottle Retail</th>\n",
       "      <th>Bottles Sold</th>\n",
       "      <th>Sale (Dollars)</th>\n",
       "      <th>Volume Sold (Liters)</th>\n",
       "      <th>Volume Sold (Gallons)</th>\n",
       "    </tr>\n",
       "  </thead>\n",
       "  <tbody>\n",
       "    <tr>\n",
       "      <th>0</th>\n",
       "      <td>S20368200013</td>\n",
       "      <td>07/29/2014</td>\n",
       "      <td>4205</td>\n",
       "      <td>Fareway Stores #467 / Marshalltown</td>\n",
       "      <td>102 WEST ANSON ST</td>\n",
       "      <td>MARSHALLTOWN</td>\n",
       "      <td>50158</td>\n",
       "      <td>POINT (-92.914409 42.038157000000005)</td>\n",
       "      <td>64.0</td>\n",
       "      <td>Marshall</td>\n",
       "      <td>...</td>\n",
       "      <td>31475</td>\n",
       "      <td>New Amsterdam Gin</td>\n",
       "      <td>12</td>\n",
       "      <td>750</td>\n",
       "      <td>6.90</td>\n",
       "      <td>10.35</td>\n",
       "      <td>3</td>\n",
       "      <td>31.05</td>\n",
       "      <td>2.25</td>\n",
       "      <td>0.59</td>\n",
       "    </tr>\n",
       "    <tr>\n",
       "      <th>1</th>\n",
       "      <td>S21259600033</td>\n",
       "      <td>09/16/2014</td>\n",
       "      <td>4805</td>\n",
       "      <td>Liquor Tobacco &amp; Grocery / Fort Dodg</td>\n",
       "      <td>902 1ST AVE N</td>\n",
       "      <td>FORT DODGE</td>\n",
       "      <td>50501</td>\n",
       "      <td>POINT (-94.186138 42.506332)</td>\n",
       "      <td>94.0</td>\n",
       "      <td>Webster</td>\n",
       "      <td>...</td>\n",
       "      <td>40359</td>\n",
       "      <td>Burnett's Strawberry Banana</td>\n",
       "      <td>12</td>\n",
       "      <td>750</td>\n",
       "      <td>4.84</td>\n",
       "      <td>7.26</td>\n",
       "      <td>2</td>\n",
       "      <td>14.52</td>\n",
       "      <td>1.50</td>\n",
       "      <td>0.40</td>\n",
       "    </tr>\n",
       "    <tr>\n",
       "      <th>2</th>\n",
       "      <td>S24224800069</td>\n",
       "      <td>02/25/2015</td>\n",
       "      <td>3820</td>\n",
       "      <td>Charlie's Wine and Spirits,</td>\n",
       "      <td>507 W 19th St</td>\n",
       "      <td>SIOUX CITY</td>\n",
       "      <td>51103</td>\n",
       "      <td>POINT (-96.420193 42.510535)</td>\n",
       "      <td>97.0</td>\n",
       "      <td>Woodbury</td>\n",
       "      <td>...</td>\n",
       "      <td>56196</td>\n",
       "      <td>Paul Masson Peach Grande Amber Brandy</td>\n",
       "      <td>12</td>\n",
       "      <td>750</td>\n",
       "      <td>6.30</td>\n",
       "      <td>9.45</td>\n",
       "      <td>12</td>\n",
       "      <td>113.40</td>\n",
       "      <td>9.00</td>\n",
       "      <td>2.38</td>\n",
       "    </tr>\n",
       "    <tr>\n",
       "      <th>3</th>\n",
       "      <td>S19640700014</td>\n",
       "      <td>06/19/2014</td>\n",
       "      <td>4595</td>\n",
       "      <td>Quik Trip #559 / Fleur Dr DM</td>\n",
       "      <td>4024 FLEUR DR</td>\n",
       "      <td>DES MOINES</td>\n",
       "      <td>50321</td>\n",
       "      <td>POINT (-93.645068 41.547105)</td>\n",
       "      <td>77.0</td>\n",
       "      <td>Polk</td>\n",
       "      <td>...</td>\n",
       "      <td>26823</td>\n",
       "      <td>Jack Daniels Old #7 Black Lbl</td>\n",
       "      <td>48</td>\n",
       "      <td>200</td>\n",
       "      <td>4.08</td>\n",
       "      <td>6.12</td>\n",
       "      <td>6</td>\n",
       "      <td>36.72</td>\n",
       "      <td>1.20</td>\n",
       "      <td>0.32</td>\n",
       "    </tr>\n",
       "    <tr>\n",
       "      <th>4</th>\n",
       "      <td>S21652000011</td>\n",
       "      <td>10/08/2014</td>\n",
       "      <td>2621</td>\n",
       "      <td>Hy-Vee Food Store #3 / Sioux City</td>\n",
       "      <td>3301 GORDON DR</td>\n",
       "      <td>SIOUX CITY</td>\n",
       "      <td>51105</td>\n",
       "      <td>POINT (-96.364108 42.487752)</td>\n",
       "      <td>97.0</td>\n",
       "      <td>Woodbury</td>\n",
       "      <td>...</td>\n",
       "      <td>32237</td>\n",
       "      <td>Seagrams Extra Dry Gin</td>\n",
       "      <td>12</td>\n",
       "      <td>1000</td>\n",
       "      <td>7.49</td>\n",
       "      <td>11.24</td>\n",
       "      <td>12</td>\n",
       "      <td>134.88</td>\n",
       "      <td>12.00</td>\n",
       "      <td>3.17</td>\n",
       "    </tr>\n",
       "    <tr>\n",
       "      <th>5</th>\n",
       "      <td>S28464700035</td>\n",
       "      <td>10/14/2015</td>\n",
       "      <td>2585</td>\n",
       "      <td>Hy-Vee Wine and Spirits / Algona</td>\n",
       "      <td>1516 HIGHWAY 169 NORTH</td>\n",
       "      <td>ALGONA</td>\n",
       "      <td>50511</td>\n",
       "      <td>POINT (-94.236003 43.081288)</td>\n",
       "      <td>55.0</td>\n",
       "      <td>Kossuth</td>\n",
       "      <td>...</td>\n",
       "      <td>31658</td>\n",
       "      <td>Paramount Gin</td>\n",
       "      <td>6</td>\n",
       "      <td>1750</td>\n",
       "      <td>7.11</td>\n",
       "      <td>10.67</td>\n",
       "      <td>6</td>\n",
       "      <td>64.02</td>\n",
       "      <td>10.50</td>\n",
       "      <td>2.77</td>\n",
       "    </tr>\n",
       "    <tr>\n",
       "      <th>6</th>\n",
       "      <td>S04521000078</td>\n",
       "      <td>03/13/2012</td>\n",
       "      <td>2506</td>\n",
       "      <td>Hy-Vee #1044 / Burlington</td>\n",
       "      <td>3140 AGENCY</td>\n",
       "      <td>BURLINGTON</td>\n",
       "      <td>52601</td>\n",
       "      <td>POINT (-91.136655 40.814666)</td>\n",
       "      <td>29.0</td>\n",
       "      <td>Des Moines</td>\n",
       "      <td>...</td>\n",
       "      <td>20248</td>\n",
       "      <td>Old Crow</td>\n",
       "      <td>6</td>\n",
       "      <td>1750</td>\n",
       "      <td>8.92</td>\n",
       "      <td>13.38</td>\n",
       "      <td>6</td>\n",
       "      <td>80.28</td>\n",
       "      <td>10.50</td>\n",
       "      <td>2.77</td>\n",
       "    </tr>\n",
       "    <tr>\n",
       "      <th>7</th>\n",
       "      <td>S17972200015</td>\n",
       "      <td>03/19/2014</td>\n",
       "      <td>3820</td>\n",
       "      <td>Charlie's Wine and Spirits,</td>\n",
       "      <td>507 W 19th St</td>\n",
       "      <td>SIOUX CITY</td>\n",
       "      <td>51103</td>\n",
       "      <td>POINT (-96.420193 42.510535)</td>\n",
       "      <td>97.0</td>\n",
       "      <td>Woodbury</td>\n",
       "      <td>...</td>\n",
       "      <td>38177</td>\n",
       "      <td>Titos Handmade Vodka</td>\n",
       "      <td>12</td>\n",
       "      <td>1000</td>\n",
       "      <td>11.92</td>\n",
       "      <td>17.88</td>\n",
       "      <td>24</td>\n",
       "      <td>429.12</td>\n",
       "      <td>24.00</td>\n",
       "      <td>6.34</td>\n",
       "    </tr>\n",
       "    <tr>\n",
       "      <th>8</th>\n",
       "      <td>S13877100006</td>\n",
       "      <td>08/13/2013</td>\n",
       "      <td>2544</td>\n",
       "      <td>Hy-Vee Food Store / Marshalltown</td>\n",
       "      <td>802 SOUTH CENTER</td>\n",
       "      <td>MARSHALLTOWN</td>\n",
       "      <td>50158</td>\n",
       "      <td>POINT (-92.912817 42.039205)</td>\n",
       "      <td>64.0</td>\n",
       "      <td>Marshall</td>\n",
       "      <td>...</td>\n",
       "      <td>35418</td>\n",
       "      <td>Burnett's Vodka 80 Prf</td>\n",
       "      <td>6</td>\n",
       "      <td>1750</td>\n",
       "      <td>8.78</td>\n",
       "      <td>13.68</td>\n",
       "      <td>6</td>\n",
       "      <td>82.08</td>\n",
       "      <td>10.50</td>\n",
       "      <td>2.77</td>\n",
       "    </tr>\n",
       "    <tr>\n",
       "      <th>9</th>\n",
       "      <td>S03561700097</td>\n",
       "      <td>01/12/2012</td>\n",
       "      <td>2561</td>\n",
       "      <td>Hy-Vee Food Store / Fleur / DSM</td>\n",
       "      <td>4605 FLEUR DRIVE</td>\n",
       "      <td>DES MOINES</td>\n",
       "      <td>50321</td>\n",
       "      <td>POINT (-93.64494300000001 41.542748)</td>\n",
       "      <td>77.0</td>\n",
       "      <td>Polk</td>\n",
       "      <td>...</td>\n",
       "      <td>4356</td>\n",
       "      <td>Balvenie 12yr Doublewood Single Malt Scotch</td>\n",
       "      <td>12</td>\n",
       "      <td>750</td>\n",
       "      <td>30.41</td>\n",
       "      <td>45.62</td>\n",
       "      <td>1</td>\n",
       "      <td>45.62</td>\n",
       "      <td>0.75</td>\n",
       "      <td>0.20</td>\n",
       "    </tr>\n",
       "  </tbody>\n",
       "</table>\n",
       "<p>10 rows × 24 columns</p>\n",
       "</div>"
      ],
      "text/plain": [
       "  Invoice/Item Number        Date  Store Number  \\\n",
       "0        S20368200013  07/29/2014          4205   \n",
       "1        S21259600033  09/16/2014          4805   \n",
       "2        S24224800069  02/25/2015          3820   \n",
       "3        S19640700014  06/19/2014          4595   \n",
       "4        S21652000011  10/08/2014          2621   \n",
       "5        S28464700035  10/14/2015          2585   \n",
       "6        S04521000078  03/13/2012          2506   \n",
       "7        S17972200015  03/19/2014          3820   \n",
       "8        S13877100006  08/13/2013          2544   \n",
       "9        S03561700097  01/12/2012          2561   \n",
       "\n",
       "                             Store Name                 Address          City  \\\n",
       "0    Fareway Stores #467 / Marshalltown       102 WEST ANSON ST  MARSHALLTOWN   \n",
       "1  Liquor Tobacco & Grocery / Fort Dodg           902 1ST AVE N    FORT DODGE   \n",
       "2           Charlie's Wine and Spirits,           507 W 19th St    SIOUX CITY   \n",
       "3          Quik Trip #559 / Fleur Dr DM           4024 FLEUR DR    DES MOINES   \n",
       "4     Hy-Vee Food Store #3 / Sioux City          3301 GORDON DR    SIOUX CITY   \n",
       "5      Hy-Vee Wine and Spirits / Algona  1516 HIGHWAY 169 NORTH        ALGONA   \n",
       "6             Hy-Vee #1044 / Burlington             3140 AGENCY    BURLINGTON   \n",
       "7           Charlie's Wine and Spirits,           507 W 19th St    SIOUX CITY   \n",
       "8      Hy-Vee Food Store / Marshalltown        802 SOUTH CENTER  MARSHALLTOWN   \n",
       "9       Hy-Vee Food Store / Fleur / DSM        4605 FLEUR DRIVE    DES MOINES   \n",
       "\n",
       "  Zip Code                         Store Location  County Number      County  \\\n",
       "0    50158  POINT (-92.914409 42.038157000000005)           64.0    Marshall   \n",
       "1    50501           POINT (-94.186138 42.506332)           94.0     Webster   \n",
       "2    51103           POINT (-96.420193 42.510535)           97.0    Woodbury   \n",
       "3    50321           POINT (-93.645068 41.547105)           77.0        Polk   \n",
       "4    51105           POINT (-96.364108 42.487752)           97.0    Woodbury   \n",
       "5    50511           POINT (-94.236003 43.081288)           55.0     Kossuth   \n",
       "6    52601           POINT (-91.136655 40.814666)           29.0  Des Moines   \n",
       "7    51103           POINT (-96.420193 42.510535)           97.0    Woodbury   \n",
       "8    50158           POINT (-92.912817 42.039205)           64.0    Marshall   \n",
       "9    50321   POINT (-93.64494300000001 41.542748)           77.0        Polk   \n",
       "\n",
       "   ...  Item Number                             Item Description  Pack  \\\n",
       "0  ...        31475                            New Amsterdam Gin    12   \n",
       "1  ...        40359                  Burnett's Strawberry Banana    12   \n",
       "2  ...        56196        Paul Masson Peach Grande Amber Brandy    12   \n",
       "3  ...        26823                Jack Daniels Old #7 Black Lbl    48   \n",
       "4  ...        32237                       Seagrams Extra Dry Gin    12   \n",
       "5  ...        31658                                Paramount Gin     6   \n",
       "6  ...        20248                                     Old Crow     6   \n",
       "7  ...        38177                         Titos Handmade Vodka    12   \n",
       "8  ...        35418                       Burnett's Vodka 80 Prf     6   \n",
       "9  ...         4356  Balvenie 12yr Doublewood Single Malt Scotch    12   \n",
       "\n",
       "  Bottle Volume (ml) State Bottle Cost State Bottle Retail  Bottles Sold  \\\n",
       "0                750              6.90               10.35             3   \n",
       "1                750              4.84                7.26             2   \n",
       "2                750              6.30                9.45            12   \n",
       "3                200              4.08                6.12             6   \n",
       "4               1000              7.49               11.24            12   \n",
       "5               1750              7.11               10.67             6   \n",
       "6               1750              8.92               13.38             6   \n",
       "7               1000             11.92               17.88            24   \n",
       "8               1750              8.78               13.68             6   \n",
       "9                750             30.41               45.62             1   \n",
       "\n",
       "   Sale (Dollars)  Volume Sold (Liters)  Volume Sold (Gallons)  \n",
       "0           31.05                  2.25                   0.59  \n",
       "1           14.52                  1.50                   0.40  \n",
       "2          113.40                  9.00                   2.38  \n",
       "3           36.72                  1.20                   0.32  \n",
       "4          134.88                 12.00                   3.17  \n",
       "5           64.02                 10.50                   2.77  \n",
       "6           80.28                 10.50                   2.77  \n",
       "7          429.12                 24.00                   6.34  \n",
       "8           82.08                 10.50                   2.77  \n",
       "9           45.62                  0.75                   0.20  \n",
       "\n",
       "[10 rows x 24 columns]"
      ]
     },
     "execution_count": 84,
     "metadata": {},
     "output_type": "execute_result"
    }
   ],
   "source": [
    "train.head(10)"
   ]
  },
  {
   "cell_type": "code",
   "execution_count": 85,
   "metadata": {},
   "outputs": [
    {
     "name": "stdout",
     "output_type": "stream",
     "text": [
      "The columns with missingness are Index(['Address', 'City', 'Zip Code', 'Store Location', 'County Number',\n",
      "       'County', 'Category', 'Category Name', 'Vendor Number', 'Vendor Name',\n",
      "       'State Bottle Cost', 'State Bottle Retail', 'Sale (Dollars)'],\n",
      "      dtype='object')\n"
     ]
    }
   ],
   "source": [
    "missingRows = pd.isnull(train).sum(axis=1) > 0\n",
    "missingCols = pd.isnull(train).sum(axis=0) > 0\n",
    "print('The columns with missingness are %s' %(train.columns[missingCols]))"
   ]
  },
  {
   "cell_type": "code",
   "execution_count": 86,
   "metadata": {},
   "outputs": [
    {
     "name": "stdout",
     "output_type": "stream",
     "text": [
      "Address is missing 79927 values\n",
      "City is missing 79926 values\n",
      "Zip Code is missing 79971 values\n",
      "Store Location is missing 1886023 values\n",
      "County Number is missing 156731 values\n",
      "County is missing 156729 values\n",
      "Category is missing 16974 values\n",
      "Category Name is missing 25040 values\n",
      "Vendor Number is missing 5 values\n",
      "Vendor Name is missing 3 values\n",
      "State Bottle Cost is missing 10 values\n",
      "State Bottle Retail is missing 10 values\n",
      "Sale (Dollars) is missing 10 values\n"
     ]
    }
   ],
   "source": [
    "missing = ['Address', 'City', 'Zip Code', 'Store Location', 'County Number',\n",
    "       'County', 'Category', 'Category Name', 'Vendor Number', 'Vendor Name',\n",
    "       'State Bottle Cost', 'State Bottle Retail', 'Sale (Dollars)']\n",
    "\n",
    "for feature in missing:\n",
    "    print('{} is missing {} values'.format(feature, train[feature].isna().sum()))"
   ]
  },
  {
   "cell_type": "code",
   "execution_count": 87,
   "metadata": {},
   "outputs": [
    {
     "data": {
      "text/plain": [
       "<matplotlib.axes._subplots.AxesSubplot at 0x2d2ebc950>"
      ]
     },
     "execution_count": 87,
     "metadata": {},
     "output_type": "execute_result"
    },
    {
     "data": {
      "image/png": "[encoded data removed]",
      "text/plain": [
       "<Figure size 720x576 with 2 Axes>"
      ]
     },
     "metadata": {
      "needs_background": "light"
     },
     "output_type": "display_data"
    }
   ],
   "source": [
    "import seaborn as sns\n",
    "\n",
    "f, ax = plt.subplots(figsize = (10,8))\n",
    "corr = train.corr()\n",
    "sns.heatmap(corr, mask = np.zeros_like(corr, dtype = np.bool), cmap = sns.diverging_palette(220, 10, as_cmap = True),\n",
    "           square = True, ax = ax)"
   ]
  },
  {
   "cell_type": "code",
   "execution_count": 88,
   "metadata": {},
   "outputs": [],
   "source": [
    "##EDA"
   ]
  },
  {
   "cell_type": "code",
   "execution_count": 104,
   "metadata": {},
   "outputs": [
    {
     "data": {
      "text/plain": [
       "(11703, 8706)"
      ]
     },
     "execution_count": 104,
     "metadata": {},
     "output_type": "execute_result"
    }
   ],
   "source": [
    "len(train['Item Number'].unique()), len(train['Item Description'].unique())"
   ]
  },
  {
   "cell_type": "code",
   "execution_count": 16,
   "metadata": {},
   "outputs": [],
   "source": [
    "train['Profit'] = train['State Bottle Retail'] - train['State Bottle Cost']"
   ]
  },
  {
   "cell_type": "code",
   "execution_count": 32,
   "metadata": {},
   "outputs": [],
   "source": [
    "train['Category Name'] = train['Category Name'].str.title()\n",
    "train['Vendor Name'] = train['Vendor Name'].str.lower()"
   ]
  },
  {
   "cell_type": "code",
   "execution_count": 91,
   "metadata": {},
   "outputs": [
    {
     "data": {
      "text/html": [
       "<div>\n",
       "<style scoped>\n",
       "    .dataframe tbody tr th:only-of-type {\n",
       "        vertical-align: middle;\n",
       "    }\n",
       "\n",
       "    .dataframe tbody tr th {\n",
       "        vertical-align: top;\n",
       "    }\n",
       "\n",
       "    .dataframe thead th {\n",
       "        text-align: right;\n",
       "    }\n",
       "</style>\n",
       "<table border=\"1\" class=\"dataframe\">\n",
       "  <thead>\n",
       "    <tr style=\"text-align: right;\">\n",
       "      <th></th>\n",
       "      <th>Profit</th>\n",
       "    </tr>\n",
       "    <tr>\n",
       "      <th>Category Name</th>\n",
       "      <th></th>\n",
       "    </tr>\n",
       "  </thead>\n",
       "  <tbody>\n",
       "    <tr>\n",
       "      <th>Canadian Whiskies</th>\n",
       "      <td>9.224773e+06</td>\n",
       "    </tr>\n",
       "    <tr>\n",
       "      <th>Straight Bourbon Whiskies</th>\n",
       "      <td>7.012432e+06</td>\n",
       "    </tr>\n",
       "    <tr>\n",
       "      <th>American Vodkas</th>\n",
       "      <td>4.873936e+06</td>\n",
       "    </tr>\n",
       "    <tr>\n",
       "      <th>Spiced Rum</th>\n",
       "      <td>4.812447e+06</td>\n",
       "    </tr>\n",
       "    <tr>\n",
       "      <th>Whiskey Liqueur</th>\n",
       "      <td>4.765944e+06</td>\n",
       "    </tr>\n",
       "    <tr>\n",
       "      <th>Vodka 80 Proof</th>\n",
       "      <td>3.915387e+06</td>\n",
       "    </tr>\n",
       "    <tr>\n",
       "      <th>Tennessee Whiskies</th>\n",
       "      <td>3.573963e+06</td>\n",
       "    </tr>\n",
       "    <tr>\n",
       "      <th>Blended Whiskies</th>\n",
       "      <td>3.105808e+06</td>\n",
       "    </tr>\n",
       "    <tr>\n",
       "      <th>Scotch Whiskies</th>\n",
       "      <td>3.069925e+06</td>\n",
       "    </tr>\n",
       "    <tr>\n",
       "      <th>Tequila</th>\n",
       "      <td>2.924362e+06</td>\n",
       "    </tr>\n",
       "  </tbody>\n",
       "</table>\n",
       "</div>"
      ],
      "text/plain": [
       "                                 Profit\n",
       "Category Name                          \n",
       "Canadian Whiskies          9.224773e+06\n",
       "Straight Bourbon Whiskies  7.012432e+06\n",
       "American Vodkas            4.873936e+06\n",
       "Spiced Rum                 4.812447e+06\n",
       "Whiskey Liqueur            4.765944e+06\n",
       "Vodka 80 Proof             3.915387e+06\n",
       "Tennessee Whiskies         3.573963e+06\n",
       "Blended Whiskies           3.105808e+06\n",
       "Scotch Whiskies            3.069925e+06\n",
       "Tequila                    2.924362e+06"
      ]
     },
     "execution_count": 91,
     "metadata": {},
     "output_type": "execute_result"
    }
   ],
   "source": [
    "train.groupby('Category Name')[['Profit']].agg(np.sum).sort_values(['Profit'], ascending = False).head(10)"
   ]
  },
  {
   "cell_type": "code",
   "execution_count": 98,
   "metadata": {},
   "outputs": [
    {
     "data": {
      "text/html": [
       "<div>\n",
       "<style scoped>\n",
       "    .dataframe tbody tr th:only-of-type {\n",
       "        vertical-align: middle;\n",
       "    }\n",
       "\n",
       "    .dataframe tbody tr th {\n",
       "        vertical-align: top;\n",
       "    }\n",
       "\n",
       "    .dataframe thead th {\n",
       "        text-align: right;\n",
       "    }\n",
       "</style>\n",
       "<table border=\"1\" class=\"dataframe\">\n",
       "  <thead>\n",
       "    <tr style=\"text-align: right;\">\n",
       "      <th></th>\n",
       "      <th></th>\n",
       "      <th>Profit</th>\n",
       "    </tr>\n",
       "    <tr>\n",
       "      <th>Category Name</th>\n",
       "      <th>Item Description</th>\n",
       "      <th></th>\n",
       "    </tr>\n",
       "  </thead>\n",
       "  <tbody>\n",
       "    <tr>\n",
       "      <th rowspan=\"10\" valign=\"top\">Canadian Whiskies</th>\n",
       "      <th>Black Velvet</th>\n",
       "      <td>1.734945e+06</td>\n",
       "    </tr>\n",
       "    <tr>\n",
       "      <th>Crown Royal Canadian Whisky</th>\n",
       "      <td>1.128410e+06</td>\n",
       "    </tr>\n",
       "    <tr>\n",
       "      <th>Crown Royal</th>\n",
       "      <td>9.999935e+05</td>\n",
       "    </tr>\n",
       "    <tr>\n",
       "      <th>Crown Royal Regal Apple</th>\n",
       "      <td>8.711860e+05</td>\n",
       "    </tr>\n",
       "    <tr>\n",
       "      <th>Canadian Club Whisky</th>\n",
       "      <td>4.632062e+05</td>\n",
       "    </tr>\n",
       "    <tr>\n",
       "      <th>Canadian Ltd Whisky</th>\n",
       "      <td>4.188735e+05</td>\n",
       "    </tr>\n",
       "    <tr>\n",
       "      <th>Black Velvet Toasted Caramel</th>\n",
       "      <td>3.484860e+05</td>\n",
       "    </tr>\n",
       "    <tr>\n",
       "      <th>Windsor Canadian Pet</th>\n",
       "      <td>2.057505e+05</td>\n",
       "    </tr>\n",
       "    <tr>\n",
       "      <th>Crown Royal Black</th>\n",
       "      <td>1.998549e+05</td>\n",
       "    </tr>\n",
       "    <tr>\n",
       "      <th>Black Velvet Reserve</th>\n",
       "      <td>1.778548e+05</td>\n",
       "    </tr>\n",
       "  </tbody>\n",
       "</table>\n",
       "</div>"
      ],
      "text/plain": [
       "                                                      Profit\n",
       "Category Name     Item Description                          \n",
       "Canadian Whiskies Black Velvet                  1.734945e+06\n",
       "                  Crown Royal Canadian Whisky   1.128410e+06\n",
       "                  Crown Royal                   9.999935e+05\n",
       "                  Crown Royal Regal Apple       8.711860e+05\n",
       "                  Canadian Club Whisky          4.632062e+05\n",
       "                  Canadian Ltd Whisky           4.188735e+05\n",
       "                  Black Velvet Toasted Caramel  3.484860e+05\n",
       "                  Windsor Canadian Pet          2.057505e+05\n",
       "                  Crown Royal Black             1.998549e+05\n",
       "                  Black Velvet Reserve          1.778548e+05"
      ]
     },
     "execution_count": 98,
     "metadata": {},
     "output_type": "execute_result"
    }
   ],
   "source": [
    "train.groupby(['Category Name', 'Item Description'])[['Profit']].agg(np.sum).loc[['Canadian Whiskies']].sort_values(['Profit'], ascending = False).head(10)"
   ]
  },
  {
   "cell_type": "code",
   "execution_count": 99,
   "metadata": {},
   "outputs": [
    {
     "data": {
      "text/html": [
       "<div>\n",
       "<style scoped>\n",
       "    .dataframe tbody tr th:only-of-type {\n",
       "        vertical-align: middle;\n",
       "    }\n",
       "\n",
       "    .dataframe tbody tr th {\n",
       "        vertical-align: top;\n",
       "    }\n",
       "\n",
       "    .dataframe thead th {\n",
       "        text-align: right;\n",
       "    }\n",
       "</style>\n",
       "<table border=\"1\" class=\"dataframe\">\n",
       "  <thead>\n",
       "    <tr style=\"text-align: right;\">\n",
       "      <th></th>\n",
       "      <th></th>\n",
       "      <th>Profit</th>\n",
       "    </tr>\n",
       "    <tr>\n",
       "      <th>Category Name</th>\n",
       "      <th>Vendor Name</th>\n",
       "      <th></th>\n",
       "    </tr>\n",
       "  </thead>\n",
       "  <tbody>\n",
       "    <tr>\n",
       "      <th rowspan=\"10\" valign=\"top\">Canadian Whiskies</th>\n",
       "      <th>Diageo Americas</th>\n",
       "      <td>4.344646e+06</td>\n",
       "    </tr>\n",
       "    <tr>\n",
       "      <th>Constellation Wine Company, Inc.</th>\n",
       "      <td>1.333310e+06</td>\n",
       "    </tr>\n",
       "    <tr>\n",
       "      <th>Constellation Brands Inc</th>\n",
       "      <td>1.012404e+06</td>\n",
       "    </tr>\n",
       "    <tr>\n",
       "      <th>Jim Beam Brands</th>\n",
       "      <td>8.993296e+05</td>\n",
       "    </tr>\n",
       "    <tr>\n",
       "      <th>Sazerac North America</th>\n",
       "      <td>4.674429e+05</td>\n",
       "    </tr>\n",
       "    <tr>\n",
       "      <th>Heaven Hill Brands</th>\n",
       "      <td>3.088149e+05</td>\n",
       "    </tr>\n",
       "    <tr>\n",
       "      <th>Proximo</th>\n",
       "      <td>1.245395e+05</td>\n",
       "    </tr>\n",
       "    <tr>\n",
       "      <th>Brown-Forman Corporation</th>\n",
       "      <td>1.232710e+05</td>\n",
       "    </tr>\n",
       "    <tr>\n",
       "      <th>Luxco-St Louis</th>\n",
       "      <td>1.035978e+05</td>\n",
       "    </tr>\n",
       "    <tr>\n",
       "      <th>Hood River Distillers, Inc.</th>\n",
       "      <td>9.703781e+04</td>\n",
       "    </tr>\n",
       "  </tbody>\n",
       "</table>\n",
       "</div>"
      ],
      "text/plain": [
       "                                                          Profit\n",
       "Category Name     Vendor Name                                   \n",
       "Canadian Whiskies Diageo Americas                   4.344646e+06\n",
       "                  Constellation Wine Company, Inc.  1.333310e+06\n",
       "                  Constellation Brands Inc          1.012404e+06\n",
       "                  Jim Beam Brands                   8.993296e+05\n",
       "                  Sazerac North America             4.674429e+05\n",
       "                  Heaven Hill Brands                3.088149e+05\n",
       "                  Proximo                           1.245395e+05\n",
       "                  Brown-Forman Corporation          1.232710e+05\n",
       "                  Luxco-St Louis                    1.035978e+05\n",
       "                  Hood River Distillers, Inc.       9.703781e+04"
      ]
     },
     "execution_count": 99,
     "metadata": {},
     "output_type": "execute_result"
    }
   ],
   "source": [
    "train.groupby(['Category Name', 'Vendor Name'])[['Profit']].agg(np.sum).loc[['Canadian Whiskies']].sort_values(['Profit'], ascending = False).head(10)"
   ]
  },
  {
   "cell_type": "code",
   "execution_count": 100,
   "metadata": {},
   "outputs": [
    {
     "data": {
      "text/html": [
       "<div>\n",
       "<style scoped>\n",
       "    .dataframe tbody tr th:only-of-type {\n",
       "        vertical-align: middle;\n",
       "    }\n",
       "\n",
       "    .dataframe tbody tr th {\n",
       "        vertical-align: top;\n",
       "    }\n",
       "\n",
       "    .dataframe thead th {\n",
       "        text-align: right;\n",
       "    }\n",
       "</style>\n",
       "<table border=\"1\" class=\"dataframe\">\n",
       "  <thead>\n",
       "    <tr style=\"text-align: right;\">\n",
       "      <th></th>\n",
       "      <th></th>\n",
       "      <th>Profit</th>\n",
       "    </tr>\n",
       "    <tr>\n",
       "      <th>Category Name</th>\n",
       "      <th>Item Description</th>\n",
       "      <th></th>\n",
       "    </tr>\n",
       "  </thead>\n",
       "  <tbody>\n",
       "    <tr>\n",
       "      <th rowspan=\"10\" valign=\"top\">American Vodkas</th>\n",
       "      <th>Titos Handmade Vodka</th>\n",
       "      <td>981602.689998</td>\n",
       "    </tr>\n",
       "    <tr>\n",
       "      <th>Hawkeye Vodka</th>\n",
       "      <td>504642.870001</td>\n",
       "    </tr>\n",
       "    <tr>\n",
       "      <th>Smirnoff 80prf</th>\n",
       "      <td>433193.560000</td>\n",
       "    </tr>\n",
       "    <tr>\n",
       "      <th>Five O'clock Vodka</th>\n",
       "      <td>196178.780000</td>\n",
       "    </tr>\n",
       "    <tr>\n",
       "      <th>Phillips Vodka</th>\n",
       "      <td>162550.670000</td>\n",
       "    </tr>\n",
       "    <tr>\n",
       "      <th>Barton Vodka</th>\n",
       "      <td>153644.290000</td>\n",
       "    </tr>\n",
       "    <tr>\n",
       "      <th>Mccormick Vodka Pet</th>\n",
       "      <td>144583.580000</td>\n",
       "    </tr>\n",
       "    <tr>\n",
       "      <th>Five O'Clock Vodka</th>\n",
       "      <td>142714.210000</td>\n",
       "    </tr>\n",
       "    <tr>\n",
       "      <th>New Amsterdam Vodka</th>\n",
       "      <td>140532.700000</td>\n",
       "    </tr>\n",
       "    <tr>\n",
       "      <th>Smirnoff PET 80prf</th>\n",
       "      <td>116978.290000</td>\n",
       "    </tr>\n",
       "  </tbody>\n",
       "</table>\n",
       "</div>"
      ],
      "text/plain": [
       "                                             Profit\n",
       "Category Name   Item Description                   \n",
       "American Vodkas Titos Handmade Vodka  981602.689998\n",
       "                Hawkeye Vodka         504642.870001\n",
       "                Smirnoff 80prf        433193.560000\n",
       "                Five O'clock Vodka    196178.780000\n",
       "                Phillips Vodka        162550.670000\n",
       "                Barton Vodka          153644.290000\n",
       "                Mccormick Vodka Pet   144583.580000\n",
       "                Five O'Clock Vodka    142714.210000\n",
       "                New Amsterdam Vodka   140532.700000\n",
       "                Smirnoff PET 80prf    116978.290000"
      ]
     },
     "execution_count": 100,
     "metadata": {},
     "output_type": "execute_result"
    }
   ],
   "source": [
    "train.groupby(['Category Name', 'Item Description'])[['Profit']].agg(np.sum).loc[['American Vodkas']].sort_values(['Profit'], ascending = False).head(10)"
   ]
  },
  {
   "cell_type": "code",
   "execution_count": 101,
   "metadata": {},
   "outputs": [
    {
     "data": {
      "text/html": [
       "<div>\n",
       "<style scoped>\n",
       "    .dataframe tbody tr th:only-of-type {\n",
       "        vertical-align: middle;\n",
       "    }\n",
       "\n",
       "    .dataframe tbody tr th {\n",
       "        vertical-align: top;\n",
       "    }\n",
       "\n",
       "    .dataframe thead th {\n",
       "        text-align: right;\n",
       "    }\n",
       "</style>\n",
       "<table border=\"1\" class=\"dataframe\">\n",
       "  <thead>\n",
       "    <tr style=\"text-align: right;\">\n",
       "      <th></th>\n",
       "      <th></th>\n",
       "      <th>Profit</th>\n",
       "    </tr>\n",
       "    <tr>\n",
       "      <th>Category Name</th>\n",
       "      <th>Vendor Name</th>\n",
       "      <th></th>\n",
       "    </tr>\n",
       "  </thead>\n",
       "  <tbody>\n",
       "    <tr>\n",
       "      <th rowspan=\"10\" valign=\"top\">American Vodkas</th>\n",
       "      <th>Fifth Generation Inc</th>\n",
       "      <td>1.069154e+06</td>\n",
       "    </tr>\n",
       "    <tr>\n",
       "      <th>Diageo Americas</th>\n",
       "      <td>9.228477e+05</td>\n",
       "    </tr>\n",
       "    <tr>\n",
       "      <th>Luxco Inc</th>\n",
       "      <td>5.837648e+05</td>\n",
       "    </tr>\n",
       "    <tr>\n",
       "      <th>Laird &amp; Company</th>\n",
       "      <td>3.823682e+05</td>\n",
       "    </tr>\n",
       "    <tr>\n",
       "      <th>Sazerac North America</th>\n",
       "      <td>3.406004e+05</td>\n",
       "    </tr>\n",
       "    <tr>\n",
       "      <th>Phillips Beverage</th>\n",
       "      <td>3.275045e+05</td>\n",
       "    </tr>\n",
       "    <tr>\n",
       "      <th>Mccormick Distilling Co.</th>\n",
       "      <td>3.183519e+05</td>\n",
       "    </tr>\n",
       "    <tr>\n",
       "      <th>E &amp; J Gallo Winery</th>\n",
       "      <td>2.937961e+05</td>\n",
       "    </tr>\n",
       "    <tr>\n",
       "      <th>Sazerac Company  Inc</th>\n",
       "      <td>1.650271e+05</td>\n",
       "    </tr>\n",
       "    <tr>\n",
       "      <th>Heaven Hill Brands</th>\n",
       "      <td>1.012882e+05</td>\n",
       "    </tr>\n",
       "  </tbody>\n",
       "</table>\n",
       "</div>"
      ],
      "text/plain": [
       "                                                Profit\n",
       "Category Name   Vendor Name                           \n",
       "American Vodkas Fifth Generation Inc      1.069154e+06\n",
       "                Diageo Americas           9.228477e+05\n",
       "                Luxco Inc                 5.837648e+05\n",
       "                Laird & Company           3.823682e+05\n",
       "                Sazerac North America     3.406004e+05\n",
       "                Phillips Beverage         3.275045e+05\n",
       "                Mccormick Distilling Co.  3.183519e+05\n",
       "                E & J Gallo Winery        2.937961e+05\n",
       "                Sazerac Company  Inc      1.650271e+05\n",
       "                Heaven Hill Brands        1.012882e+05"
      ]
     },
     "execution_count": 101,
     "metadata": {},
     "output_type": "execute_result"
    }
   ],
   "source": [
    "train.groupby(['Category Name', 'Vendor Name'])[['Profit']].agg(np.sum).loc[['American Vodkas']].sort_values(['Profit'], ascending = False).head(10)"
   ]
  },
  {
   "cell_type": "code",
   "execution_count": 102,
   "metadata": {},
   "outputs": [
    {
     "data": {
      "text/html": [
       "<div>\n",
       "<style scoped>\n",
       "    .dataframe tbody tr th:only-of-type {\n",
       "        vertical-align: middle;\n",
       "    }\n",
       "\n",
       "    .dataframe tbody tr th {\n",
       "        vertical-align: top;\n",
       "    }\n",
       "\n",
       "    .dataframe thead th {\n",
       "        text-align: right;\n",
       "    }\n",
       "</style>\n",
       "<table border=\"1\" class=\"dataframe\">\n",
       "  <thead>\n",
       "    <tr style=\"text-align: right;\">\n",
       "      <th></th>\n",
       "      <th></th>\n",
       "      <th>Profit</th>\n",
       "    </tr>\n",
       "    <tr>\n",
       "      <th>Category Name</th>\n",
       "      <th>Item Description</th>\n",
       "      <th></th>\n",
       "    </tr>\n",
       "  </thead>\n",
       "  <tbody>\n",
       "    <tr>\n",
       "      <th rowspan=\"10\" valign=\"top\">Straight Bourbon Whiskies</th>\n",
       "      <th>Jim Beam</th>\n",
       "      <td>1139201.24</td>\n",
       "    </tr>\n",
       "    <tr>\n",
       "      <th>Maker's Mark</th>\n",
       "      <td>547992.92</td>\n",
       "    </tr>\n",
       "    <tr>\n",
       "      <th>Ten High</th>\n",
       "      <td>319646.43</td>\n",
       "    </tr>\n",
       "    <tr>\n",
       "      <th>Wild Turkey 101</th>\n",
       "      <td>304661.77</td>\n",
       "    </tr>\n",
       "    <tr>\n",
       "      <th>Cedar Ridge Bourbon</th>\n",
       "      <td>243285.05</td>\n",
       "    </tr>\n",
       "    <tr>\n",
       "      <th>Old Crow</th>\n",
       "      <td>235419.76</td>\n",
       "    </tr>\n",
       "    <tr>\n",
       "      <th>Bulleit Bourbon</th>\n",
       "      <td>184465.43</td>\n",
       "    </tr>\n",
       "    <tr>\n",
       "      <th>Knob Creek</th>\n",
       "      <td>183197.76</td>\n",
       "    </tr>\n",
       "    <tr>\n",
       "      <th>Evan Williams Yr Str Bourbon</th>\n",
       "      <td>180570.19</td>\n",
       "    </tr>\n",
       "    <tr>\n",
       "      <th>Ancient Age Bourbon</th>\n",
       "      <td>164516.75</td>\n",
       "    </tr>\n",
       "  </tbody>\n",
       "</table>\n",
       "</div>"
      ],
      "text/plain": [
       "                                                            Profit\n",
       "Category Name             Item Description                        \n",
       "Straight Bourbon Whiskies Jim Beam                      1139201.24\n",
       "                          Maker's Mark                   547992.92\n",
       "                          Ten High                       319646.43\n",
       "                          Wild Turkey 101                304661.77\n",
       "                          Cedar Ridge Bourbon            243285.05\n",
       "                          Old Crow                       235419.76\n",
       "                          Bulleit Bourbon                184465.43\n",
       "                          Knob Creek                     183197.76\n",
       "                          Evan Williams Yr Str Bourbon   180570.19\n",
       "                          Ancient Age Bourbon            164516.75"
      ]
     },
     "execution_count": 102,
     "metadata": {},
     "output_type": "execute_result"
    }
   ],
   "source": [
    "train.groupby(['Category Name', 'Item Description'])[['Profit']].agg(np.sum).loc[['Straight Bourbon Whiskies']].sort_values(['Profit'], ascending = False).head(10)"
   ]
  },
  {
   "cell_type": "code",
   "execution_count": 103,
   "metadata": {},
   "outputs": [
    {
     "data": {
      "text/html": [
       "<div>\n",
       "<style scoped>\n",
       "    .dataframe tbody tr th:only-of-type {\n",
       "        vertical-align: middle;\n",
       "    }\n",
       "\n",
       "    .dataframe tbody tr th {\n",
       "        vertical-align: top;\n",
       "    }\n",
       "\n",
       "    .dataframe thead th {\n",
       "        text-align: right;\n",
       "    }\n",
       "</style>\n",
       "<table border=\"1\" class=\"dataframe\">\n",
       "  <thead>\n",
       "    <tr style=\"text-align: right;\">\n",
       "      <th></th>\n",
       "      <th></th>\n",
       "      <th>Profit</th>\n",
       "    </tr>\n",
       "    <tr>\n",
       "      <th>Category Name</th>\n",
       "      <th>Vendor Name</th>\n",
       "      <th></th>\n",
       "    </tr>\n",
       "  </thead>\n",
       "  <tbody>\n",
       "    <tr>\n",
       "      <th rowspan=\"10\" valign=\"top\">Straight Bourbon Whiskies</th>\n",
       "      <th>Jim Beam Brands</th>\n",
       "      <td>3.470371e+06</td>\n",
       "    </tr>\n",
       "    <tr>\n",
       "      <th>Heaven Hill Brands</th>\n",
       "      <td>5.498628e+05</td>\n",
       "    </tr>\n",
       "    <tr>\n",
       "      <th>Sazerac North America</th>\n",
       "      <td>3.891640e+05</td>\n",
       "    </tr>\n",
       "    <tr>\n",
       "      <th>Campari(Skyy)</th>\n",
       "      <td>3.204017e+05</td>\n",
       "    </tr>\n",
       "    <tr>\n",
       "      <th>Diageo Americas</th>\n",
       "      <td>2.701718e+05</td>\n",
       "    </tr>\n",
       "    <tr>\n",
       "      <th>Sazerac Company  Inc</th>\n",
       "      <td>2.522293e+05</td>\n",
       "    </tr>\n",
       "    <tr>\n",
       "      <th>Brown Forman Corp.</th>\n",
       "      <td>2.373287e+05</td>\n",
       "    </tr>\n",
       "    <tr>\n",
       "      <th>Skyy Spirits Inc</th>\n",
       "      <td>2.172414e+05</td>\n",
       "    </tr>\n",
       "    <tr>\n",
       "      <th>Sazerac Co., Inc.</th>\n",
       "      <td>1.915051e+05</td>\n",
       "    </tr>\n",
       "    <tr>\n",
       "      <th>Cedar Ridge Vineyards Ll</th>\n",
       "      <td>1.451949e+05</td>\n",
       "    </tr>\n",
       "  </tbody>\n",
       "</table>\n",
       "</div>"
      ],
      "text/plain": [
       "                                                          Profit\n",
       "Category Name             Vendor Name                           \n",
       "Straight Bourbon Whiskies Jim Beam Brands           3.470371e+06\n",
       "                          Heaven Hill Brands        5.498628e+05\n",
       "                          Sazerac North America     3.891640e+05\n",
       "                          Campari(Skyy)             3.204017e+05\n",
       "                          Diageo Americas           2.701718e+05\n",
       "                          Sazerac Company  Inc      2.522293e+05\n",
       "                          Brown Forman Corp.        2.373287e+05\n",
       "                          Skyy Spirits Inc          2.172414e+05\n",
       "                          Sazerac Co., Inc.         1.915051e+05\n",
       "                          Cedar Ridge Vineyards Ll  1.451949e+05"
      ]
     },
     "execution_count": 103,
     "metadata": {},
     "output_type": "execute_result"
    }
   ],
   "source": [
    "train.groupby(['Category Name', 'Vendor Name'])[['Profit']].agg(np.sum).loc[['Straight Bourbon Whiskies']].sort_values(['Profit'], ascending = False).head(10)"
   ]
  },
  {
   "cell_type": "code",
   "execution_count": 18,
   "metadata": {},
   "outputs": [
    {
     "data": {
      "text/html": [
       "<div>\n",
       "<style scoped>\n",
       "    .dataframe tbody tr th:only-of-type {\n",
       "        vertical-align: middle;\n",
       "    }\n",
       "\n",
       "    .dataframe tbody tr th {\n",
       "        vertical-align: top;\n",
       "    }\n",
       "\n",
       "    .dataframe thead th {\n",
       "        text-align: right;\n",
       "    }\n",
       "</style>\n",
       "<table border=\"1\" class=\"dataframe\">\n",
       "  <thead>\n",
       "    <tr style=\"text-align: right;\">\n",
       "      <th></th>\n",
       "      <th>Profit</th>\n",
       "    </tr>\n",
       "    <tr>\n",
       "      <th>Vendor Name</th>\n",
       "      <th></th>\n",
       "    </tr>\n",
       "  </thead>\n",
       "  <tbody>\n",
       "    <tr>\n",
       "      <th>diageo americas</th>\n",
       "      <td>2.016477e+07</td>\n",
       "    </tr>\n",
       "    <tr>\n",
       "      <th>jim beam brands</th>\n",
       "      <td>8.892005e+06</td>\n",
       "    </tr>\n",
       "    <tr>\n",
       "      <th>sazerac company  inc</th>\n",
       "      <td>4.223846e+06</td>\n",
       "    </tr>\n",
       "    <tr>\n",
       "      <th>proximo</th>\n",
       "      <td>3.844647e+06</td>\n",
       "    </tr>\n",
       "    <tr>\n",
       "      <th>pernod ricard usa/austin nichols</th>\n",
       "      <td>3.727960e+06</td>\n",
       "    </tr>\n",
       "    <tr>\n",
       "      <th>pernod ricard usa</th>\n",
       "      <td>3.538030e+06</td>\n",
       "    </tr>\n",
       "    <tr>\n",
       "      <th>heaven hill brands</th>\n",
       "      <td>3.365814e+06</td>\n",
       "    </tr>\n",
       "    <tr>\n",
       "      <th>sazerac north america</th>\n",
       "      <td>2.919854e+06</td>\n",
       "    </tr>\n",
       "    <tr>\n",
       "      <th>luxco-st louis</th>\n",
       "      <td>2.900950e+06</td>\n",
       "    </tr>\n",
       "    <tr>\n",
       "      <th>bacardi u.s.a., inc.</th>\n",
       "      <td>2.855926e+06</td>\n",
       "    </tr>\n",
       "  </tbody>\n",
       "</table>\n",
       "</div>"
      ],
      "text/plain": [
       "                                        Profit\n",
       "Vendor Name                                   \n",
       "diageo americas                   2.016477e+07\n",
       "jim beam brands                   8.892005e+06\n",
       "sazerac company  inc              4.223846e+06\n",
       "proximo                           3.844647e+06\n",
       "pernod ricard usa/austin nichols  3.727960e+06\n",
       "pernod ricard usa                 3.538030e+06\n",
       "heaven hill brands                3.365814e+06\n",
       "sazerac north america             2.919854e+06\n",
       "luxco-st louis                    2.900950e+06\n",
       "bacardi u.s.a., inc.              2.855926e+06"
      ]
     },
     "execution_count": 18,
     "metadata": {},
     "output_type": "execute_result"
    }
   ],
   "source": [
    "train.groupby('Vendor Name')[['Profit']].agg(np.sum).sort_values(['Profit'], ascending = False).head(10)\n",
    "\n"
   ]
  },
  {
   "cell_type": "code",
   "execution_count": 20,
   "metadata": {},
   "outputs": [
    {
     "data": {
      "text/html": [
       "<div>\n",
       "<style scoped>\n",
       "    .dataframe tbody tr th:only-of-type {\n",
       "        vertical-align: middle;\n",
       "    }\n",
       "\n",
       "    .dataframe tbody tr th {\n",
       "        vertical-align: top;\n",
       "    }\n",
       "\n",
       "    .dataframe thead th {\n",
       "        text-align: right;\n",
       "    }\n",
       "</style>\n",
       "<table border=\"1\" class=\"dataframe\">\n",
       "  <thead>\n",
       "    <tr style=\"text-align: right;\">\n",
       "      <th></th>\n",
       "      <th>Profit</th>\n",
       "    </tr>\n",
       "    <tr>\n",
       "      <th>Store Name</th>\n",
       "      <th></th>\n",
       "    </tr>\n",
       "  </thead>\n",
       "  <tbody>\n",
       "    <tr>\n",
       "      <th>Hy-Vee #3 / BDI / Des Moines</th>\n",
       "      <td>1053566.02</td>\n",
       "    </tr>\n",
       "    <tr>\n",
       "      <th>Central City 2</th>\n",
       "      <td>894017.93</td>\n",
       "    </tr>\n",
       "    <tr>\n",
       "      <th>Central City Liquor, Inc.</th>\n",
       "      <td>865501.26</td>\n",
       "    </tr>\n",
       "    <tr>\n",
       "      <th>Hy-Vee Wine and Spirits / Iowa City</th>\n",
       "      <td>671912.32</td>\n",
       "    </tr>\n",
       "    <tr>\n",
       "      <th>Hy-Vee Wine and Spirits / Bettendorf</th>\n",
       "      <td>592715.41</td>\n",
       "    </tr>\n",
       "    <tr>\n",
       "      <th>Benz Distributing</th>\n",
       "      <td>574017.61</td>\n",
       "    </tr>\n",
       "    <tr>\n",
       "      <th>Cyclone Liquors</th>\n",
       "      <td>557151.01</td>\n",
       "    </tr>\n",
       "    <tr>\n",
       "      <th>Hy-Vee Food Store #1 / Mason City</th>\n",
       "      <td>549242.39</td>\n",
       "    </tr>\n",
       "    <tr>\n",
       "      <th>Hy-Vee Food Store / Cedar Falls</th>\n",
       "      <td>531059.42</td>\n",
       "    </tr>\n",
       "    <tr>\n",
       "      <th>Hy-Vee #7 / Cedar Rapids</th>\n",
       "      <td>496991.38</td>\n",
       "    </tr>\n",
       "  </tbody>\n",
       "</table>\n",
       "</div>"
      ],
      "text/plain": [
       "                                          Profit\n",
       "Store Name                                      \n",
       "Hy-Vee #3 / BDI / Des Moines          1053566.02\n",
       "Central City 2                         894017.93\n",
       "Central City Liquor, Inc.              865501.26\n",
       "Hy-Vee Wine and Spirits / Iowa City    671912.32\n",
       "Hy-Vee Wine and Spirits / Bettendorf   592715.41\n",
       "Benz Distributing                      574017.61\n",
       "Cyclone Liquors                        557151.01\n",
       "Hy-Vee Food Store #1 / Mason City      549242.39\n",
       "Hy-Vee Food Store / Cedar Falls        531059.42\n",
       "Hy-Vee #7 / Cedar Rapids               496991.38"
      ]
     },
     "execution_count": 20,
     "metadata": {},
     "output_type": "execute_result"
    }
   ],
   "source": [
    "train.groupby('Store Name')[['Profit']].agg(np.sum).sort_values(['Profit'], ascending = False).head(10)\n",
    "\n"
   ]
  },
  {
   "cell_type": "code",
   "execution_count": 81,
   "metadata": {},
   "outputs": [
    {
     "data": {
      "text/html": [
       "<div>\n",
       "<style scoped>\n",
       "    .dataframe tbody tr th:only-of-type {\n",
       "        vertical-align: middle;\n",
       "    }\n",
       "\n",
       "    .dataframe tbody tr th {\n",
       "        vertical-align: top;\n",
       "    }\n",
       "\n",
       "    .dataframe thead th {\n",
       "        text-align: right;\n",
       "    }\n",
       "</style>\n",
       "<table border=\"1\" class=\"dataframe\">\n",
       "  <thead>\n",
       "    <tr style=\"text-align: right;\">\n",
       "      <th></th>\n",
       "      <th></th>\n",
       "      <th>Profit</th>\n",
       "    </tr>\n",
       "    <tr>\n",
       "      <th>Store Name</th>\n",
       "      <th>Item Description</th>\n",
       "      <th></th>\n",
       "    </tr>\n",
       "  </thead>\n",
       "  <tbody>\n",
       "    <tr>\n",
       "      <th rowspan=\"10\" valign=\"top\">Hy-Vee #3 / BDI / Des Moines</th>\n",
       "      <th>Grand Marnier Cordon Rouge</th>\n",
       "      <td>11279.05</td>\n",
       "    </tr>\n",
       "    <tr>\n",
       "      <th>Patron Tequila Silver</th>\n",
       "      <td>10514.80</td>\n",
       "    </tr>\n",
       "    <tr>\n",
       "      <th>Maker's Mark</th>\n",
       "      <td>9790.41</td>\n",
       "    </tr>\n",
       "    <tr>\n",
       "      <th>Don Julio Reposado</th>\n",
       "      <td>8338.76</td>\n",
       "    </tr>\n",
       "    <tr>\n",
       "      <th>Ciroc Peach</th>\n",
       "      <td>7643.22</td>\n",
       "    </tr>\n",
       "    <tr>\n",
       "      <th>Jagermeister Liqueur</th>\n",
       "      <td>7586.92</td>\n",
       "    </tr>\n",
       "    <tr>\n",
       "      <th>Jose Cuervo Especial Reposado Tequila</th>\n",
       "      <td>7427.30</td>\n",
       "    </tr>\n",
       "    <tr>\n",
       "      <th>Cointreau Liqueur</th>\n",
       "      <td>7227.90</td>\n",
       "    </tr>\n",
       "    <tr>\n",
       "      <th>Crown Royal Canadian Whisky</th>\n",
       "      <td>7151.45</td>\n",
       "    </tr>\n",
       "    <tr>\n",
       "      <th>Tanqueray Gin</th>\n",
       "      <td>7149.97</td>\n",
       "    </tr>\n",
       "  </tbody>\n",
       "</table>\n",
       "</div>"
      ],
      "text/plain": [
       "                                                                      Profit\n",
       "Store Name                   Item Description                               \n",
       "Hy-Vee #3 / BDI / Des Moines Grand Marnier Cordon Rouge             11279.05\n",
       "                             Patron Tequila Silver                  10514.80\n",
       "                             Maker's Mark                            9790.41\n",
       "                             Don Julio Reposado                      8338.76\n",
       "                             Ciroc Peach                             7643.22\n",
       "                             Jagermeister Liqueur                    7586.92\n",
       "                             Jose Cuervo Especial Reposado Tequila   7427.30\n",
       "                             Cointreau Liqueur                       7227.90\n",
       "                             Crown Royal Canadian Whisky             7151.45\n",
       "                             Tanqueray Gin                           7149.97"
      ]
     },
     "execution_count": 81,
     "metadata": {},
     "output_type": "execute_result"
    }
   ],
   "source": [
    "train.groupby(['Store Name', 'Item Description'])[['Profit']].agg(np.sum).loc[['Hy-Vee #3 / BDI / Des Moines']].sort_values(['Profit'], ascending = False).head(10)\n",
    "\n"
   ]
  },
  {
   "cell_type": "code",
   "execution_count": 24,
   "metadata": {},
   "outputs": [
    {
     "data": {
      "text/html": [
       "<div>\n",
       "<style scoped>\n",
       "    .dataframe tbody tr th:only-of-type {\n",
       "        vertical-align: middle;\n",
       "    }\n",
       "\n",
       "    .dataframe tbody tr th {\n",
       "        vertical-align: top;\n",
       "    }\n",
       "\n",
       "    .dataframe thead th {\n",
       "        text-align: right;\n",
       "    }\n",
       "</style>\n",
       "<table border=\"1\" class=\"dataframe\">\n",
       "  <thead>\n",
       "    <tr style=\"text-align: right;\">\n",
       "      <th></th>\n",
       "      <th>Profit</th>\n",
       "    </tr>\n",
       "    <tr>\n",
       "      <th>City</th>\n",
       "      <th></th>\n",
       "    </tr>\n",
       "  </thead>\n",
       "  <tbody>\n",
       "    <tr>\n",
       "      <th>Des Moines</th>\n",
       "      <td>8.668019e+06</td>\n",
       "    </tr>\n",
       "    <tr>\n",
       "      <th>Cedar Rapids</th>\n",
       "      <td>6.190702e+06</td>\n",
       "    </tr>\n",
       "    <tr>\n",
       "      <th>Davenport</th>\n",
       "      <td>4.009393e+06</td>\n",
       "    </tr>\n",
       "    <tr>\n",
       "      <th>Iowa City</th>\n",
       "      <td>2.951878e+06</td>\n",
       "    </tr>\n",
       "    <tr>\n",
       "      <th>West Des Moines</th>\n",
       "      <td>2.920907e+06</td>\n",
       "    </tr>\n",
       "    <tr>\n",
       "      <th>Waterloo</th>\n",
       "      <td>2.884458e+06</td>\n",
       "    </tr>\n",
       "    <tr>\n",
       "      <th>Ames</th>\n",
       "      <td>2.870596e+06</td>\n",
       "    </tr>\n",
       "    <tr>\n",
       "      <th>Sioux City</th>\n",
       "      <td>2.841747e+06</td>\n",
       "    </tr>\n",
       "    <tr>\n",
       "      <th>Council Bluffs</th>\n",
       "      <td>2.788847e+06</td>\n",
       "    </tr>\n",
       "    <tr>\n",
       "      <th>Dubuque</th>\n",
       "      <td>2.570486e+06</td>\n",
       "    </tr>\n",
       "    <tr>\n",
       "      <th>Cedar Falls</th>\n",
       "      <td>2.004048e+06</td>\n",
       "    </tr>\n",
       "    <tr>\n",
       "      <th>Ankeny</th>\n",
       "      <td>1.943645e+06</td>\n",
       "    </tr>\n",
       "    <tr>\n",
       "      <th>Coralville</th>\n",
       "      <td>1.637784e+06</td>\n",
       "    </tr>\n",
       "    <tr>\n",
       "      <th>Bettendorf</th>\n",
       "      <td>1.436080e+06</td>\n",
       "    </tr>\n",
       "    <tr>\n",
       "      <th>Mason City</th>\n",
       "      <td>1.422671e+06</td>\n",
       "    </tr>\n",
       "  </tbody>\n",
       "</table>\n",
       "</div>"
      ],
      "text/plain": [
       "                       Profit\n",
       "City                         \n",
       "Des Moines       8.668019e+06\n",
       "Cedar Rapids     6.190702e+06\n",
       "Davenport        4.009393e+06\n",
       "Iowa City        2.951878e+06\n",
       "West Des Moines  2.920907e+06\n",
       "Waterloo         2.884458e+06\n",
       "Ames             2.870596e+06\n",
       "Sioux City       2.841747e+06\n",
       "Council Bluffs   2.788847e+06\n",
       "Dubuque          2.570486e+06\n",
       "Cedar Falls      2.004048e+06\n",
       "Ankeny           1.943645e+06\n",
       "Coralville       1.637784e+06\n",
       "Bettendorf       1.436080e+06\n",
       "Mason City       1.422671e+06"
      ]
     },
     "execution_count": 24,
     "metadata": {},
     "output_type": "execute_result"
    }
   ],
   "source": [
    "train['City'] = train['City'].str.title()\n",
    "train.groupby('City')[['Profit']].agg(np.sum).sort_values(['Profit'], ascending = False).head(15)\n"
   ]
  },
  {
   "cell_type": "code",
   "execution_count": 79,
   "metadata": {},
   "outputs": [
    {
     "data": {
      "text/html": [
       "<div>\n",
       "<style scoped>\n",
       "    .dataframe tbody tr th:only-of-type {\n",
       "        vertical-align: middle;\n",
       "    }\n",
       "\n",
       "    .dataframe tbody tr th {\n",
       "        vertical-align: top;\n",
       "    }\n",
       "\n",
       "    .dataframe thead th {\n",
       "        text-align: right;\n",
       "    }\n",
       "</style>\n",
       "<table border=\"1\" class=\"dataframe\">\n",
       "  <thead>\n",
       "    <tr style=\"text-align: right;\">\n",
       "      <th></th>\n",
       "      <th></th>\n",
       "      <th>Profit</th>\n",
       "    </tr>\n",
       "    <tr>\n",
       "      <th>City</th>\n",
       "      <th>Item Description</th>\n",
       "      <th></th>\n",
       "    </tr>\n",
       "  </thead>\n",
       "  <tbody>\n",
       "    <tr>\n",
       "      <th rowspan=\"10\" valign=\"top\">Des Moines</th>\n",
       "      <th>Fireball Cinnamon Whiskey Mini Dispenser</th>\n",
       "      <td>199480.30</td>\n",
       "    </tr>\n",
       "    <tr>\n",
       "      <th>Hennessy VS</th>\n",
       "      <td>124691.16</td>\n",
       "    </tr>\n",
       "    <tr>\n",
       "      <th>Black Velvet</th>\n",
       "      <td>108087.76</td>\n",
       "    </tr>\n",
       "    <tr>\n",
       "      <th>Fireball Cinnamon Whiskey</th>\n",
       "      <td>101304.58</td>\n",
       "    </tr>\n",
       "    <tr>\n",
       "      <th>Jack Daniels Old #7 Black Lbl</th>\n",
       "      <td>87605.52</td>\n",
       "    </tr>\n",
       "    <tr>\n",
       "      <th>Hennessy Vs Cognac</th>\n",
       "      <td>85736.20</td>\n",
       "    </tr>\n",
       "    <tr>\n",
       "      <th>Hawkeye Vodka</th>\n",
       "      <td>81641.62</td>\n",
       "    </tr>\n",
       "    <tr>\n",
       "      <th>Jagermeister Liqueur</th>\n",
       "      <td>80448.51</td>\n",
       "    </tr>\n",
       "    <tr>\n",
       "      <th>Grey Goose Vodka</th>\n",
       "      <td>79981.47</td>\n",
       "    </tr>\n",
       "    <tr>\n",
       "      <th>Patron Tequila Silver</th>\n",
       "      <td>78899.45</td>\n",
       "    </tr>\n",
       "  </tbody>\n",
       "</table>\n",
       "</div>"
      ],
      "text/plain": [
       "                                                        Profit\n",
       "City       Item Description                                   \n",
       "Des Moines Fireball Cinnamon Whiskey Mini Dispenser  199480.30\n",
       "           Hennessy VS                               124691.16\n",
       "           Black Velvet                              108087.76\n",
       "           Fireball Cinnamon Whiskey                 101304.58\n",
       "           Jack Daniels Old #7 Black Lbl              87605.52\n",
       "           Hennessy Vs Cognac                         85736.20\n",
       "           Hawkeye Vodka                              81641.62\n",
       "           Jagermeister Liqueur                       80448.51\n",
       "           Grey Goose Vodka                           79981.47\n",
       "           Patron Tequila Silver                      78899.45"
      ]
     },
     "execution_count": 79,
     "metadata": {},
     "output_type": "execute_result"
    }
   ],
   "source": [
    "train.groupby(['City', 'Item Description'])[['Profit']].agg(np.sum).loc[['Des Moines']].sort_values(['Profit'], ascending = False).head(10)\n",
    "\n"
   ]
  },
  {
   "cell_type": "code",
   "execution_count": 25,
   "metadata": {},
   "outputs": [
    {
     "data": {
      "text/plain": [
       "dtype('O')"
      ]
     },
     "execution_count": 25,
     "metadata": {},
     "output_type": "execute_result"
    }
   ],
   "source": [
    "train1 = train.copy()\n",
    "train1['Date'].dtype"
   ]
  },
  {
   "cell_type": "code",
   "execution_count": 26,
   "metadata": {},
   "outputs": [],
   "source": [
    "train1['Date'] = pd.to_datetime(train1['Date'])"
   ]
  },
  {
   "cell_type": "code",
   "execution_count": 27,
   "metadata": {},
   "outputs": [],
   "source": [
    "train1['Order.Year'] = train1['Date'].dt.year\n",
    "train1['Order.Month'] = train1['Date'].dt.month\n",
    "train1['Order.Day'] = train1['Date'].dt.dayofyear"
   ]
  },
  {
   "cell_type": "code",
   "execution_count": 32,
   "metadata": {},
   "outputs": [
    {
     "data": {
      "image/png": "[encoded data removed]",
      "text/plain": [
       "<Figure size 432x288 with 1 Axes>"
      ]
     },
     "metadata": {
      "needs_background": "light"
     },
     "output_type": "display_data"
    }
   ],
   "source": [
    "##Products sold in 2012 - present(2020)\n",
    "\n",
    "grouped = train1.groupby(by = 'Order.Year')\n",
    "allproducts = []\n",
    "\n",
    "for year in range(2012, 2021):\n",
    "    y = grouped.get_group(year).drop_duplicates(subset=['Item Number'])\n",
    "    allproducts.append(len(y.index))\n",
    "\n",
    "years = range(2012, 2021)\n",
    "    \n",
    "plt.bar(years, allproducts)\n",
    "plt.ylabel('# of Unique Products Sold')\n",
    "plt.title('Liquor Market Size Fluctuation')\n",
    "plt.show()\n",
    "\n"
   ]
  },
  {
   "cell_type": "code",
   "execution_count": 31,
   "metadata": {},
   "outputs": [
    {
     "data": {
      "image/png": "[encoded data removed]",
      "text/plain": [
       "<Figure size 432x288 with 1 Axes>"
      ]
     },
     "metadata": {
      "needs_background": "light"
     },
     "output_type": "display_data"
    }
   ],
   "source": [
    "grouped = train1.groupby(by = 'Order.Year')\n",
    "productsurvival2012 = [len(prod2012.index)]\n",
    "prod2012 = grouped.get_group(2012).drop_duplicates(subset=['Item Number'])\n",
    "\n",
    "for year in range(2013, 2021):\n",
    "    y = grouped.get_group(year).drop_duplicates(subset=['Item Number'])\n",
    "    mergedprod = pd.merge(prod2012, y, on = 'Item Number', how = 'inner')\n",
    "    productsurvival2012.append(len(mergedprod.index))\n",
    "\n",
    "years = range(2012, 2021)\n",
    "    \n",
    "plt.bar(years, productsurvival2012, color = 'green')\n",
    "plt.ylabel('# of Products from 2012')\n",
    "plt.title('Product attrition from 2012 to 2020')\n",
    "plt.show()\n",
    "\n"
   ]
  },
  {
   "cell_type": "code",
   "execution_count": 33,
   "metadata": {},
   "outputs": [
    {
     "data": {
      "text/plain": [
       "[3146, 2426, 2034, 1813, 1698, 1575, 1433, 1318, 1248]"
      ]
     },
     "execution_count": 33,
     "metadata": {},
     "output_type": "execute_result"
    }
   ],
   "source": [
    "productsurvival2012"
   ]
  },
  {
   "cell_type": "code",
   "execution_count": null,
   "metadata": {},
   "outputs": [],
   "source": []
  },
  {
   "cell_type": "code",
   "execution_count": 11,
   "metadata": {},
   "outputs": [],
   "source": [
    "mask = train1['Item Number'].isin(mergedprod['Item Number'])"
   ]
  },
  {
   "cell_type": "code",
   "execution_count": 12,
   "metadata": {},
   "outputs": [
    {
     "data": {
      "text/plain": [
       "(16100874, 27)"
      ]
     },
     "execution_count": 12,
     "metadata": {},
     "output_type": "execute_result"
    }
   ],
   "source": [
    "new_train = train1[mask]\n",
    "new_train.shape"
   ]
  },
  {
   "cell_type": "code",
   "execution_count": 36,
   "metadata": {},
   "outputs": [
    {
     "data": {
      "text/plain": [
       "Text(0, 0.5, 'Frequency')"
      ]
     },
     "execution_count": 36,
     "metadata": {},
     "output_type": "execute_result"
    },
    {
     "data": {
      "image/png": "[encoded data removed]",
      "text/plain": [
       "<Figure size 432x288 with 1 Axes>"
      ]
     },
     "metadata": {
      "needs_background": "light"
     },
     "output_type": "display_data"
    }
   ],
   "source": [
    "x = train1['Order.Month']\n",
    "plt.hist(x, color = 'black', bins = 30, density = True)\n",
    "plt.xlabel('Order Month')\n",
    "plt.ylabel('Frequency')"
   ]
  },
  {
   "cell_type": "code",
   "execution_count": 141,
   "metadata": {},
   "outputs": [
    {
     "data": {
      "text/plain": [
       "<matplotlib.axes._subplots.AxesSubplot at 0x2185836d0>"
      ]
     },
     "execution_count": 141,
     "metadata": {},
     "output_type": "execute_result"
    },
    {
     "data": {
      "image/png": "[encoded data removed]",
      "text/plain": [
       "<Figure size 432x288 with 1 Axes>"
      ]
     },
     "metadata": {
      "needs_background": "light"
     },
     "output_type": "display_data"
    }
   ],
   "source": [
    "train1.groupby(['Category Name', 'Order.Month'])[['Profit']].agg(np.sum).loc[['Canadian Whiskies']].reset_index().plot(x = 'Order.Month', y = 'Profit')\n",
    "\n"
   ]
  },
  {
   "cell_type": "code",
   "execution_count": 142,
   "metadata": {},
   "outputs": [
    {
     "data": {
      "text/plain": [
       "<matplotlib.axes._subplots.AxesSubplot at 0x11e0edb10>"
      ]
     },
     "execution_count": 142,
     "metadata": {},
     "output_type": "execute_result"
    },
    {
     "data": {
      "image/png": "[encoded data removed]",
      "text/plain": [
       "<Figure size 432x288 with 1 Axes>"
      ]
     },
     "metadata": {
      "needs_background": "light"
     },
     "output_type": "display_data"
    }
   ],
   "source": [
    "train1.groupby(['Category Name', 'Order.Month'])[['Profit']].agg(np.sum).loc[['American Vodkas']].reset_index().plot(x = 'Order.Month', y = 'Profit')\n",
    "\n"
   ]
  },
  {
   "cell_type": "code",
   "execution_count": 143,
   "metadata": {},
   "outputs": [
    {
     "data": {
      "text/plain": [
       "<matplotlib.axes._subplots.AxesSubplot at 0x158034450>"
      ]
     },
     "execution_count": 143,
     "metadata": {},
     "output_type": "execute_result"
    },
    {
     "data": {
      "image/png": "[encoded data removed]",
      "text/plain": [
       "<Figure size 432x288 with 1 Axes>"
      ]
     },
     "metadata": {
      "needs_background": "light"
     },
     "output_type": "display_data"
    }
   ],
   "source": [
    "train1.groupby(['Category Name', 'Order.Month'])[['Profit']].agg(np.sum).loc[['Straight Bourbon Whiskies']].reset_index().plot(x = 'Order.Month', y = 'Profit')\n",
    "\n"
   ]
  }
 ],
 "metadata": {
  "kernelspec": {
   "display_name": "Python 3",
   "language": "python",
   "name": "python3"
  },
  "language_info": {
   "codemirror_mode": {
    "name": "ipython",
    "version": 3
   },
   "file_extension": ".py",
   "mimetype": "text/x-python",
   "name": "python",
   "nbconvert_exporter": "python",
   "pygments_lexer": "ipython3",
   "version": "3.7.6"
  }
 },
 "nbformat": 4,
 "nbformat_minor": 4
}
